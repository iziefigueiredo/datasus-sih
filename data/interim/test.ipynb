{
 "cells": [
  {
   "cell_type": "code",
   "execution_count": 12,
   "id": "39bc09b5",
   "metadata": {},
   "outputs": [],
   "source": [
    "import pandas as pd\n",
    "\n",
    "df = pd.read_parquet(\"sih_rs_contraido.parquet\")"
   ]
  },
  {
   "cell_type": "code",
   "execution_count": 14,
   "id": "cd490ce5",
   "metadata": {},
   "outputs": [
    {
     "name": "stdout",
     "output_type": "stream",
     "text": [
      "Total de registros: 11,821,898\n",
      "========================================\n",
      "Verificando valores negativos e nulos...\n",
      "========================================\n",
      "Coluna: VAL_SH\n",
      "  - Valores nulos: 0\n",
      "  - Valores negativos: 0\n",
      "Coluna: VAL_SP\n",
      "  - Valores nulos: 0\n",
      "  - Valores negativos: 0\n",
      "Coluna: VAL_TOT\n",
      "  - Valores nulos: 0\n",
      "  - Valores negativos: 0\n",
      "Coluna: VAL_UTI\n",
      "  - Valores nulos: 0\n",
      "  - Valores negativos: 0\n"
     ]
    }
   ],
   "source": [
    "import polars as pl\n",
    "\n",
    "# O caminho para o arquivo parquet\n",
    "arquivo_parquet = \"sih_rs_contraido.parquet\"\n",
    "\n",
    "# Colunas de valor que podem ter problemas\n",
    "colunas_valores = ['VAL_SH', 'VAL_SP', 'VAL_TOT', 'VAL_UTI']\n",
    "\n",
    "# Carrega o arquivo Parquet\n",
    "df = pl.read_parquet(arquivo_parquet)\n",
    "\n",
    "print(f\"Total de registros: {len(df):,}\")\n",
    "print(\"=\"*40)\n",
    "print(\"Verificando valores negativos e nulos...\")\n",
    "print(\"=\"*40)\n",
    "\n",
    "for coluna in colunas_valores:\n",
    "    if coluna in df.columns:\n",
    "        # Conta valores nulos\n",
    "        contagem_nulos = df.select(pl.col(coluna).is_null().sum()).item()\n",
    "        \n",
    "        # Conta valores negativos\n",
    "        contagem_negativos = df.select((pl.col(coluna) < 0).sum()).item()\n",
    "        \n",
    "        print(f\"Coluna: {coluna}\")\n",
    "        print(f\"  - Valores nulos: {contagem_nulos:,}\")\n",
    "        print(f\"  - Valores negativos: {contagem_negativos:,}\")\n",
    "    else:\n",
    "        print(f\"Atenção: A coluna '{coluna}' não foi encontrada no DataFrame.\")\n"
   ]
  },
  {
   "cell_type": "code",
   "execution_count": 11,
   "id": "41b01afd",
   "metadata": {},
   "outputs": [
    {
     "data": {
      "text/plain": [
       "N_AIH          object\n",
       "ESPEC          object\n",
       "IDENT          object\n",
       "CEP            object\n",
       "MUNIC_RES      object\n",
       "NASC           object\n",
       "SEXO            int32\n",
       "DT_INTER       object\n",
       "DT_SAIDA       object\n",
       "UTI_MES_TO    float64\n",
       "MARCA_UTI      object\n",
       "UTI_INT_TO    float64\n",
       "DIAR_ACOM     float64\n",
       "QT_DIARIAS     object\n",
       "PROC_REA       object\n",
       "VAL_SH        float64\n",
       "VAL_SP        float64\n",
       "VAL_TOT       float64\n",
       "VAL_UTI       float64\n",
       "NATUREZA       object\n",
       "CNES           object\n",
       "NAT_JUR        object\n",
       "GESTAO         object\n",
       "IND_VDRL       object\n",
       "IDADE         float64\n",
       "DIAG_PRINC     object\n",
       "DIAG_SECUN     object\n",
       "COBRANCA       object\n",
       "MORTE          object\n",
       "MUNIC_MOV      object\n",
       "DIAS_PERM       int32\n",
       "NACIONAL       object\n",
       "NUM_FILHOS      int32\n",
       "INSTRU         object\n",
       "CID_NOTIF      object\n",
       "CONTRACEP1     object\n",
       "CONTRACEP2     object\n",
       "GESTRICO       object\n",
       "INSC_PN        object\n",
       "CBOR           object\n",
       "CNAER          object\n",
       "VINCPREV       object\n",
       "INFEHOSP       object\n",
       "CID_ASSO       object\n",
       "CID_MORTE      object\n",
       "COMPLEX        object\n",
       "RACA_COR       object\n",
       "ETNIA          object\n",
       "DIAGSEC1       object\n",
       "DIAGSEC2       object\n",
       "DIAGSEC3       object\n",
       "DIAGSEC4       object\n",
       "DIAGSEC5       object\n",
       "DIAGSEC6       object\n",
       "DIAGSEC7       object\n",
       "DIAGSEC8       object\n",
       "DIAGSEC9       object\n",
       "COD_IDADE      object\n",
       "CGC_HOSP       object\n",
       "dtype: object"
      ]
     },
     "execution_count": 11,
     "metadata": {},
     "output_type": "execute_result"
    }
   ],
   "source": [
    "df.dtypes"
   ]
  },
  {
   "cell_type": "markdown",
   "id": "7e69b3c0",
   "metadata": {},
   "source": []
  }
 ],
 "metadata": {
  "kernelspec": {
   "display_name": "venv",
   "language": "python",
   "name": "python3"
  },
  "language_info": {
   "codemirror_mode": {
    "name": "ipython",
    "version": 3
   },
   "file_extension": ".py",
   "mimetype": "text/x-python",
   "name": "python",
   "nbconvert_exporter": "python",
   "pygments_lexer": "ipython3",
   "version": "3.12.3"
  }
 },
 "nbformat": 4,
 "nbformat_minor": 5
}
