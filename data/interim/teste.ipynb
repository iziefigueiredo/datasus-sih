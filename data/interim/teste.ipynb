{
 "cells": [
  {
   "cell_type": "code",
   "execution_count": 25,
   "id": "ed83582f",
   "metadata": {},
   "outputs": [],
   "source": [
    "import pandas as pd\n",
    "\n",
    "df = pd.read_parquet(\"sih_rs_tratado.parquet\")"
   ]
  },
  {
   "cell_type": "code",
   "execution_count": 29,
   "id": "b2d0a613",
   "metadata": {},
   "outputs": [
    {
     "name": "stdout",
     "output_type": "stream",
     "text": [
      "Analisando o arquivo: sih_rs_tratado.parquet\n",
      "----------------------------------------\n",
      "Contagem dos 10 valores mais frequentes para a coluna 'ETNIA':\n",
      "shape: (10, 2)\n",
      "┌───────────┬──────────┐\n",
      "│ CID_NOTIF ┆ contagem │\n",
      "│ ---       ┆ ---      │\n",
      "│ str       ┆ u32      │\n",
      "╞═══════════╪══════════╡\n",
      "│ 0         ┆ 11746494 │\n",
      "│ Z302      ┆ 75210    │\n",
      "│ O149      ┆ 40       │\n",
      "│ O000      ┆ 21       │\n",
      "│ O100      ┆ 21       │\n",
      "│ O231      ┆ 19       │\n",
      "│ O109      ┆ 18       │\n",
      "│ O141      ┆ 11       │\n",
      "│ O903      ┆ 11       │\n",
      "│ O140      ┆ 7        │\n",
      "└───────────┴──────────┘\n"
     ]
    },
    {
     "name": "stderr",
     "output_type": "stream",
     "text": [
      "/tmp/ipykernel_17885/900817837.py:28: DeprecationWarning: `pl.count()` is deprecated. Please use `pl.len()` instead.\n",
      "(Deprecated in version 0.20.5)\n",
      "  .agg(pl.count().alias(\"contagem\")) # Conta as ocorrências e renomeia para 'contagem'\n"
     ]
    }
   ],
   "source": [
    "import polars as pl\n",
    "from pathlib import Path\n",
    "\n",
    "# --- Configuração ---\n",
    "# Ajuste o caminho se necessário\n",
    "PROCESSED_FILE_PATH = Path(\"sih_rs_tratado.parquet\")\n",
    "\n",
    "def analisar_frequencia_etnia(caminho_arquivo: Path):\n",
    "    \"\"\"\n",
    "    Lê um arquivo Parquet e conta a frequência dos 10 valores mais comuns\n",
    "    na coluna 'ETNIA'.\n",
    "    \"\"\"\n",
    "    if not caminho_arquivo.exists():\n",
    "        print(f\"ERRO: Arquivo não encontrado em '{caminho_arquivo}'\")\n",
    "        return\n",
    "\n",
    "    print(f\"Analisando o arquivo: {caminho_arquivo.name}\")\n",
    "    print(\"-\" * 40)\n",
    "\n",
    "    try:\n",
    "        # 1. Lê o arquivo, selecionando apenas a coluna 'ETNIA' para economizar memória\n",
    "        df = pl.read_parquet(caminho_arquivo, columns=[\"CID_NOTIF\"])\n",
    "\n",
    "        # 2. Conta a frequência de cada valor na coluna, ordena do mais frequente\n",
    "        #    para o menos, e pega os 10 primeiros.\n",
    "        contagem_etnia = (\n",
    "            df.group_by(\"CID_NOTIF\")\n",
    "            .agg(pl.count().alias(\"contagem\")) # Conta as ocorrências e renomeia para 'contagem'\n",
    "            .sort(\"contagem\", descending=True) # Ordena pela contagem\n",
    "            .limit(10)                         # Pega os 10 primeiros\n",
    "        )\n",
    "\n",
    "        print(\"Contagem dos 10 valores mais frequentes para a coluna 'ETNIA':\")\n",
    "        print(contagem_etnia)\n",
    "\n",
    "    except pl.ColumnNotFoundError:\n",
    "        print(\"ERRO: A coluna 'ETNIA' não foi encontrada no arquivo.\")\n",
    "    except Exception as e:\n",
    "        print(f\"Ocorreu um erro inesperado: {e}\")\n",
    "\n",
    "# --- Execução ---\n",
    "if __name__ == \"__main__\":\n",
    "    analisar_frequencia_etnia(PROCESSED_FILE_PATH)\n",
    "\n"
   ]
  },
  {
   "cell_type": "code",
   "execution_count": 26,
   "id": "87d7488c",
   "metadata": {},
   "outputs": [
    {
     "data": {
      "text/plain": [
       "np.int64(0)"
      ]
     },
     "execution_count": 26,
     "metadata": {},
     "output_type": "execute_result"
    }
   ],
   "source": [
    "df['ETNIA'].isnull().sum()"
   ]
  },
  {
   "cell_type": "code",
   "execution_count": 21,
   "id": "78f23229",
   "metadata": {},
   "outputs": [
    {
     "name": "stdout",
     "output_type": "stream",
     "text": [
      "Valores únicos da coluna 'NACIONAL' salvos em 'contagem_NACIONAL.csv' com sucesso.\n"
     ]
    }
   ],
   "source": [
    "import pandas as pd\n",
    "import polars as pl\n",
    "from pathlib import Path\n",
    "\n",
    "# Suponha que o seu DataFrame Polars já foi criado e está salvo\n",
    "# no arquivo tratado (sih_rs_tratado.parquet)\n",
    "caminho_arquivo = \"sih_rs_tratado.parquet\" \n",
    "\n",
    "try:\n",
    "    # Lê o arquivo Parquet para um DataFrame Polars\n",
    "    df_pl = pl.read_parquet(caminho_arquivo)\n",
    "    \n",
    "    # Converte o DataFrame do Polars para Pandas\n",
    "    df_pd = df_pl.to_pandas()\n",
    "    \n",
    "    # Seleciona a coluna e conta os valores únicos\n",
    "    coluna_interesse = 'NACIONAL'\n",
    "    contagem_valores = df_pd[coluna_interesse].value_counts()\n",
    "    \n",
    "    # Define o nome do arquivo de saída\n",
    "    nome_csv = f'contagem_{coluna_interesse}.csv'\n",
    "    \n",
    "    # Salva o resultado em um arquivo CSV\n",
    "    contagem_valores.to_csv(nome_csv, header=True, index=True)\n",
    "    \n",
    "    print(f\"Valores únicos da coluna '{coluna_interesse}' salvos em '{nome_csv}' com sucesso.\")\n",
    "\n",
    "except FileNotFoundError:\n",
    "    print(f\"Erro: O arquivo '{caminho_arquivo}' não foi encontrado. Certifique-se de que a etapa de pré-processamento foi executada com sucesso.\")\n",
    "except KeyError:\n",
    "    print(f\"Erro: A coluna '{coluna_interesse}' não existe no DataFrame.\")\n",
    "except Exception as e:\n",
    "    print(f\"Ocorreu um erro: {e}\")"
   ]
  }
 ],
 "metadata": {
  "kernelspec": {
   "display_name": "venv",
   "language": "python",
   "name": "python3"
  },
  "language_info": {
   "codemirror_mode": {
    "name": "ipython",
    "version": 3
   },
   "file_extension": ".py",
   "mimetype": "text/x-python",
   "name": "python",
   "nbconvert_exporter": "python",
   "pygments_lexer": "ipython3",
   "version": "3.12.3"
  }
 },
 "nbformat": 4,
 "nbformat_minor": 5
}
