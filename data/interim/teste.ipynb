{
 "cells": [
  {
   "cell_type": "code",
   "execution_count": 25,
   "id": "ed83582f",
   "metadata": {},
   "outputs": [],
   "source": [
    "import pandas as pd\n",
    "\n",
    "df = pd.read_parquet(\"sih_rs_tratado.parquet\")"
   ]
  },
  {
   "cell_type": "code",
   "execution_count": 32,
   "id": "b2d0a613",
   "metadata": {},
   "outputs": [
    {
     "name": "stdout",
     "output_type": "stream",
     "text": [
      "Analisando o arquivo: sih_rs_tratado.parquet\n",
      "----------------------------------------\n",
      "Contagem dos 10 valores mais frequentes para a coluna 'ETNIA':\n",
      "shape: (10, 2)\n",
      "┌────────────┬──────────┐\n",
      "│ QT_DIARIAS ┆ contagem │\n",
      "│ ---        ┆ ---      │\n",
      "│ i32        ┆ u32      │\n",
      "╞════════════╪══════════╡\n",
      "│ 0          ┆ 11820567 │\n",
      "│ 200        ┆ 139      │\n",
      "│ 214        ┆ 107      │\n",
      "│ 216        ┆ 91       │\n",
      "│ 204        ┆ 73       │\n",
      "│ 224        ┆ 67       │\n",
      "│ 210        ┆ 64       │\n",
      "│ 212        ┆ 61       │\n",
      "│ 206        ┆ 57       │\n",
      "│ 208        ┆ 56       │\n",
      "└────────────┴──────────┘\n"
     ]
    },
    {
     "name": "stderr",
     "output_type": "stream",
     "text": [
      "/tmp/ipykernel_17885/178973963.py:28: DeprecationWarning: `pl.count()` is deprecated. Please use `pl.len()` instead.\n",
      "(Deprecated in version 0.20.5)\n",
      "  .agg(pl.count().alias(\"contagem\")) # Conta as ocorrências e renomeia para 'contagem'\n"
     ]
    }
   ],
   "source": [
    "import polars as pl\n",
    "from pathlib import Path\n",
    "\n",
    "# --- Configuração ---\n",
    "# Ajuste o caminho se necessário\n",
    "PROCESSED_FILE_PATH = Path(\"sih_rs_tratado.parquet\")\n",
    "\n",
    "def analisar_frequencia_etnia(caminho_arquivo: Path):\n",
    "    \"\"\"\n",
    "    Lê um arquivo Parquet e conta a frequência dos 10 valores mais comuns\n",
    "    na coluna 'ETNIA'.\n",
    "    \"\"\"\n",
    "    if not caminho_arquivo.exists():\n",
    "        print(f\"ERRO: Arquivo não encontrado em '{caminho_arquivo}'\")\n",
    "        return\n",
    "\n",
    "    print(f\"Analisando o arquivo: {caminho_arquivo.name}\")\n",
    "    print(\"-\" * 40)\n",
    "\n",
    "    try:\n",
    "        # 1. Lê o arquivo, selecionando apenas a coluna 'ETNIA' para economizar memória\n",
    "        df = pl.read_parquet(caminho_arquivo, columns=[\"QT_DIARIAS\"])\n",
    "\n",
    "        # 2. Conta a frequência de cada valor na coluna, ordena do mais frequente\n",
    "        #    para o menos, e pega os 10 primeiros.\n",
    "        contagem_etnia = (\n",
    "            df.group_by(\"QT_DIARIAS\")\n",
    "            .agg(pl.count().alias(\"contagem\")) # Conta as ocorrências e renomeia para 'contagem'\n",
    "            .sort(\"contagem\", descending=True) # Ordena pela contagem\n",
    "            .limit(10)                         # Pega os 10 primeiros\n",
    "        )\n",
    "\n",
    "        print(\"Contagem dos 10 valores mais frequentes para a coluna 'ETNIA':\")\n",
    "        print(contagem_etnia)\n",
    "\n",
    "    except pl.ColumnNotFoundError:\n",
    "        print(\"ERRO: A coluna 'ETNIA' não foi encontrada no arquivo.\")\n",
    "    except Exception as e:\n",
    "        print(f\"Ocorreu um erro inesperado: {e}\")\n",
    "\n",
    "# --- Execução ---\n",
    "if __name__ == \"__main__\":\n",
    "    analisar_frequencia_etnia(PROCESSED_FILE_PATH)\n",
    "\n"
   ]
  },
  {
   "cell_type": "code",
   "execution_count": null,
   "id": "87d7488c",
   "metadata": {},
   "outputs": [
    {
     "ename": "ColumnNotFoundError",
     "evalue": "DIAS_CALCULADOS\n\nResolved plan until failure:\n\n\t---> FAILED HERE RESOLVING 'sink' <---\nParquet SCAN [sih_rs_tratado.parquet] [id: 124728243191920]\nPROJECT */58 COLUMNS",
     "output_type": "error",
     "traceback": [
      "\u001b[31m---------------------------------------------------------------------------\u001b[39m",
      "\u001b[31mColumnNotFoundError\u001b[39m                       Traceback (most recent call last)",
      "\u001b[36mCell\u001b[39m\u001b[36m \u001b[39m\u001b[32mIn[33]\u001b[39m\u001b[32m, line 14\u001b[39m\n\u001b[32m     11\u001b[39m     \u001b[38;5;28mprint\u001b[39m(\u001b[33mf\u001b[39m\u001b[33m\"\u001b[39m\u001b[33mErro: Arquivo \u001b[39m\u001b[33m'\u001b[39m\u001b[38;5;132;01m{\u001b[39;00mfile_path\u001b[38;5;132;01m}\u001b[39;00m\u001b[33m'\u001b[39m\u001b[33m não encontrado. Certifique-se de que a etapa 3 do pipeline foi executada e que o notebook está na pasta correta.\u001b[39m\u001b[33m\"\u001b[39m)\n\u001b[32m     12\u001b[39m \u001b[38;5;28;01melse\u001b[39;00m:\n\u001b[32m     13\u001b[39m     \u001b[38;5;66;03m# Lê as colunas relevantes\u001b[39;00m\n\u001b[32m---> \u001b[39m\u001b[32m14\u001b[39m     df = \u001b[43mpl\u001b[49m\u001b[43m.\u001b[49m\u001b[43mread_parquet\u001b[49m\u001b[43m(\u001b[49m\n\u001b[32m     15\u001b[39m \u001b[43m        \u001b[49m\u001b[43mfile_path\u001b[49m\u001b[43m,\u001b[49m\u001b[43m \u001b[49m\n\u001b[32m     16\u001b[39m \u001b[43m        \u001b[49m\u001b[43mcolumns\u001b[49m\u001b[43m=\u001b[49m\u001b[43m[\u001b[49m\u001b[33;43m\"\u001b[39;49m\u001b[33;43mN_AIH\u001b[39;49m\u001b[33;43m\"\u001b[39;49m\u001b[43m,\u001b[49m\u001b[43m \u001b[49m\u001b[33;43m\"\u001b[39;49m\u001b[33;43mDT_INTER\u001b[39;49m\u001b[33;43m\"\u001b[39;49m\u001b[43m,\u001b[49m\u001b[43m \u001b[49m\u001b[33;43m\"\u001b[39;49m\u001b[33;43mDT_SAIDA\u001b[39;49m\u001b[33;43m\"\u001b[39;49m\u001b[43m,\u001b[49m\u001b[43m \u001b[49m\u001b[33;43m\"\u001b[39;49m\u001b[33;43mDIAS_PERM\u001b[39;49m\u001b[33;43m\"\u001b[39;49m\u001b[43m,\u001b[49m\u001b[43m \u001b[49m\u001b[33;43m\"\u001b[39;49m\u001b[33;43mDIAS_CALCULADOS\u001b[39;49m\u001b[33;43m\"\u001b[39;49m\u001b[43m]\u001b[49m\n\u001b[32m     17\u001b[39m \u001b[43m    \u001b[49m\u001b[43m)\u001b[49m\n\u001b[32m     19\u001b[39m     \u001b[38;5;66;03m# Exibe os registros onde DIAS_PERM é diferente de DIAS_CALCULADOS\u001b[39;00m\n\u001b[32m     20\u001b[39m     \u001b[38;5;28mprint\u001b[39m(\u001b[33m\"\u001b[39m\u001b[33mRegistros onde a coluna \u001b[39m\u001b[33m'\u001b[39m\u001b[33mDIAS_PERM\u001b[39m\u001b[33m'\u001b[39m\u001b[33m é diferente de \u001b[39m\u001b[33m'\u001b[39m\u001b[33mDIAS_CALCULADOS\u001b[39m\u001b[33m'\u001b[39m\u001b[33m:\u001b[39m\u001b[38;5;130;01m\\n\u001b[39;00m\u001b[33m\"\u001b[39m)\n",
      "\u001b[36mFile \u001b[39m\u001b[32m~/datasus-sih/venv/lib/python3.12/site-packages/polars/_utils/deprecation.py:128\u001b[39m, in \u001b[36mdeprecate_renamed_parameter.<locals>.decorate.<locals>.wrapper\u001b[39m\u001b[34m(*args, **kwargs)\u001b[39m\n\u001b[32m    123\u001b[39m \u001b[38;5;129m@wraps\u001b[39m(function)\n\u001b[32m    124\u001b[39m \u001b[38;5;28;01mdef\u001b[39;00m\u001b[38;5;250m \u001b[39m\u001b[34mwrapper\u001b[39m(*args: P.args, **kwargs: P.kwargs) -> T:\n\u001b[32m    125\u001b[39m     _rename_keyword_argument(\n\u001b[32m    126\u001b[39m         old_name, new_name, kwargs, function.\u001b[34m__qualname__\u001b[39m, version\n\u001b[32m    127\u001b[39m     )\n\u001b[32m--> \u001b[39m\u001b[32m128\u001b[39m     \u001b[38;5;28;01mreturn\u001b[39;00m \u001b[43mfunction\u001b[49m\u001b[43m(\u001b[49m\u001b[43m*\u001b[49m\u001b[43margs\u001b[49m\u001b[43m,\u001b[49m\u001b[43m \u001b[49m\u001b[43m*\u001b[49m\u001b[43m*\u001b[49m\u001b[43mkwargs\u001b[49m\u001b[43m)\u001b[49m\n",
      "\u001b[36mFile \u001b[39m\u001b[32m~/datasus-sih/venv/lib/python3.12/site-packages/polars/_utils/deprecation.py:128\u001b[39m, in \u001b[36mdeprecate_renamed_parameter.<locals>.decorate.<locals>.wrapper\u001b[39m\u001b[34m(*args, **kwargs)\u001b[39m\n\u001b[32m    123\u001b[39m \u001b[38;5;129m@wraps\u001b[39m(function)\n\u001b[32m    124\u001b[39m \u001b[38;5;28;01mdef\u001b[39;00m\u001b[38;5;250m \u001b[39m\u001b[34mwrapper\u001b[39m(*args: P.args, **kwargs: P.kwargs) -> T:\n\u001b[32m    125\u001b[39m     _rename_keyword_argument(\n\u001b[32m    126\u001b[39m         old_name, new_name, kwargs, function.\u001b[34m__qualname__\u001b[39m, version\n\u001b[32m    127\u001b[39m     )\n\u001b[32m--> \u001b[39m\u001b[32m128\u001b[39m     \u001b[38;5;28;01mreturn\u001b[39;00m \u001b[43mfunction\u001b[49m\u001b[43m(\u001b[49m\u001b[43m*\u001b[49m\u001b[43margs\u001b[49m\u001b[43m,\u001b[49m\u001b[43m \u001b[49m\u001b[43m*\u001b[49m\u001b[43m*\u001b[49m\u001b[43mkwargs\u001b[49m\u001b[43m)\u001b[49m\n",
      "\u001b[36mFile \u001b[39m\u001b[32m~/datasus-sih/venv/lib/python3.12/site-packages/polars/io/parquet/functions.py:283\u001b[39m, in \u001b[36mread_parquet\u001b[39m\u001b[34m(source, columns, n_rows, row_index_name, row_index_offset, parallel, use_statistics, hive_partitioning, glob, schema, hive_schema, try_parse_hive_dates, rechunk, low_memory, storage_options, credential_provider, retries, use_pyarrow, pyarrow_options, memory_map, include_file_paths, missing_columns, allow_missing_columns)\u001b[39m\n\u001b[32m    280\u001b[39m     \u001b[38;5;28;01melse\u001b[39;00m:\n\u001b[32m    281\u001b[39m         lf = lf.select(columns)\n\u001b[32m--> \u001b[39m\u001b[32m283\u001b[39m \u001b[38;5;28;01mreturn\u001b[39;00m \u001b[43mlf\u001b[49m\u001b[43m.\u001b[49m\u001b[43mcollect\u001b[49m\u001b[43m(\u001b[49m\u001b[43m)\u001b[49m\n",
      "\u001b[36mFile \u001b[39m\u001b[32m~/datasus-sih/venv/lib/python3.12/site-packages/polars/_utils/deprecation.py:97\u001b[39m, in \u001b[36mdeprecate_streaming_parameter.<locals>.decorate.<locals>.wrapper\u001b[39m\u001b[34m(*args, **kwargs)\u001b[39m\n\u001b[32m     93\u001b[39m         kwargs[\u001b[33m\"\u001b[39m\u001b[33mengine\u001b[39m\u001b[33m\"\u001b[39m] = \u001b[33m\"\u001b[39m\u001b[33min-memory\u001b[39m\u001b[33m\"\u001b[39m\n\u001b[32m     95\u001b[39m     \u001b[38;5;28;01mdel\u001b[39;00m kwargs[\u001b[33m\"\u001b[39m\u001b[33mstreaming\u001b[39m\u001b[33m\"\u001b[39m]\n\u001b[32m---> \u001b[39m\u001b[32m97\u001b[39m \u001b[38;5;28;01mreturn\u001b[39;00m \u001b[43mfunction\u001b[49m\u001b[43m(\u001b[49m\u001b[43m*\u001b[49m\u001b[43margs\u001b[49m\u001b[43m,\u001b[49m\u001b[43m \u001b[49m\u001b[43m*\u001b[49m\u001b[43m*\u001b[49m\u001b[43mkwargs\u001b[49m\u001b[43m)\u001b[49m\n",
      "\u001b[36mFile \u001b[39m\u001b[32m~/datasus-sih/venv/lib/python3.12/site-packages/polars/lazyframe/opt_flags.py:330\u001b[39m, in \u001b[36mforward_old_opt_flags.<locals>.decorate.<locals>.wrapper\u001b[39m\u001b[34m(*args, **kwargs)\u001b[39m\n\u001b[32m    327\u001b[39m         optflags = cb(optflags, kwargs.pop(key))  \u001b[38;5;66;03m# type: ignore[no-untyped-call,unused-ignore]\u001b[39;00m\n\u001b[32m    329\u001b[39m kwargs[\u001b[33m\"\u001b[39m\u001b[33moptimizations\u001b[39m\u001b[33m\"\u001b[39m] = optflags\n\u001b[32m--> \u001b[39m\u001b[32m330\u001b[39m \u001b[38;5;28;01mreturn\u001b[39;00m \u001b[43mfunction\u001b[49m\u001b[43m(\u001b[49m\u001b[43m*\u001b[49m\u001b[43margs\u001b[49m\u001b[43m,\u001b[49m\u001b[43m \u001b[49m\u001b[43m*\u001b[49m\u001b[43m*\u001b[49m\u001b[43mkwargs\u001b[49m\u001b[43m)\u001b[49m\n",
      "\u001b[36mFile \u001b[39m\u001b[32m~/datasus-sih/venv/lib/python3.12/site-packages/polars/lazyframe/frame.py:2332\u001b[39m, in \u001b[36mLazyFrame.collect\u001b[39m\u001b[34m(self, type_coercion, predicate_pushdown, projection_pushdown, simplify_expression, slice_pushdown, comm_subplan_elim, comm_subexpr_elim, cluster_with_columns, collapse_joins, no_optimization, engine, background, optimizations, **_kwargs)\u001b[39m\n\u001b[32m   2330\u001b[39m \u001b[38;5;66;03m# Only for testing purposes\u001b[39;00m\n\u001b[32m   2331\u001b[39m callback = _kwargs.get(\u001b[33m\"\u001b[39m\u001b[33mpost_opt_callback\u001b[39m\u001b[33m\"\u001b[39m, callback)\n\u001b[32m-> \u001b[39m\u001b[32m2332\u001b[39m \u001b[38;5;28;01mreturn\u001b[39;00m wrap_df(\u001b[43mldf\u001b[49m\u001b[43m.\u001b[49m\u001b[43mcollect\u001b[49m\u001b[43m(\u001b[49m\u001b[43mengine\u001b[49m\u001b[43m,\u001b[49m\u001b[43m \u001b[49m\u001b[43mcallback\u001b[49m\u001b[43m)\u001b[49m)\n",
      "\u001b[31mColumnNotFoundError\u001b[39m: DIAS_CALCULADOS\n\nResolved plan until failure:\n\n\t---> FAILED HERE RESOLVING 'sink' <---\nParquet SCAN [sih_rs_tratado.parquet] [id: 124728243191920]\nPROJECT */58 COLUMNS"
     ]
    }
   ],
   "source": [
    "import pandas as pd\n",
    "from pathlib import Path\n",
    "\n",
    "# Define the file path. Assumes the notebook is in the 'interim' folder.\n",
    "file_path = Path(\"sih_rs_tratado.parquet\")\n",
    "\n",
    "if not file_path.exists():\n",
    "    print(f\"Error: The file '{file_path}' was not found. Make sure the pipeline's step 3 has been run and the notebook is in the correct folder.\")\n",
    "else:\n",
    "    try:\n",
    "        # Read the entire Parquet file into a pandas DataFrame.\n",
    "        # This will show all columns that exist in the file.\n",
    "        df = pd.read_parquet(file_path)\n",
    "\n",
    "        # Show all existing columns to confirm if DIAS_CALCULADOS was created.\n",
    "        print(\"All columns found in the file:\")\n",
    "        print(df.columns.tolist())\n",
    "\n",
    "        # Now, try to select the relevant columns.\n",
    "        if \"DIAS_CALCULADOS\" in df.columns and \"DIAS_PERM\" in df.columns:\n",
    "            df_selected = df[[\"N_AIH\", \"DT_INTER\", \"DT_SAIDA\", \"DIAS_PERM\", \"DIAS_CALCULADOS\"]]\n",
    "            \n",
    "            print(\"\\nComparing DIAS_PERM and DIAS_CALCULADOS:\")\n",
    "            # Show a sample of records where the values are different.\n",
    "            df_diff = df_selected[df_selected[\"DIAS_PERM\"] != df_selected[\"DIAS_CALCULADOS\"]].head(20)\n",
    "            print(df_diff)\n",
    "\n",
    "            # Print a summary of the differences.\n",
    "            total_diff = len(df_selected[df_selected[\"DIAS_PERM\"] != df_selected[\"DIAS_CALCULADOS\"]])\n",
    "            total_records = len(df_selected)\n",
    "            print(f\"\\nTotal records checked: {total_records:,}\")\n",
    "            print(f\"Total records with a difference: {total_diff:,}\")\n",
    "        else:\n",
    "            print(\"\\nError: The required columns 'DIAS_CALCULADOS' or 'DIAS_PERM' were not found in the file. Please check your preprocess script.\")\n",
    "\n",
    "    except Exception as e:\n",
    "        print(f\"An error occurred while reading the file: {e}\")"
   ]
  }
 ],
 "metadata": {
  "kernelspec": {
   "display_name": "venv",
   "language": "python",
   "name": "python3"
  },
  "language_info": {
   "codemirror_mode": {
    "name": "ipython",
    "version": 3
   },
   "file_extension": ".py",
   "mimetype": "text/x-python",
   "name": "python",
   "nbconvert_exporter": "python",
   "pygments_lexer": "ipython3",
   "version": "3.12.3"
  }
 },
 "nbformat": 4,
 "nbformat_minor": 5
}
