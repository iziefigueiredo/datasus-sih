{
 "cells": [
  {
   "cell_type": "code",
   "execution_count": 6,
   "id": "ed83582f",
   "metadata": {},
   "outputs": [],
   "source": [
    "import pandas as pd\n",
    "\n",
    "df = pd.read_parquet(\"contraceptivos.parquet\")"
   ]
  },
  {
   "cell_type": "code",
   "execution_count": 8,
   "id": "b2d0a613",
   "metadata": {},
   "outputs": [
    {
     "data": {
      "text/plain": [
       "N_AIH                 object\n",
       "tipo_contraceptivo    object\n",
       "codigo_metodo         object\n",
       "dtype: object"
      ]
     },
     "execution_count": 8,
     "metadata": {},
     "output_type": "execute_result"
    }
   ],
   "source": [
    "df.dtypes"
   ]
  },
  {
   "cell_type": "code",
   "execution_count": 1,
   "id": "bf97e827",
   "metadata": {},
   "outputs": [
    {
     "name": "stdout",
     "output_type": "stream",
     "text": [
      "Total de registros: 11,821,898\n",
      "========================================\n",
      "Verificando valores negativos e nulos...\n",
      "========================================\n",
      "Coluna: VAL_SH\n",
      "  - Valores nulos: 0\n",
      "  - Valores negativos: 0\n",
      "Coluna: VAL_SP\n",
      "  - Valores nulos: 0\n",
      "  - Valores negativos: 0\n",
      "Coluna: VAL_TOT\n",
      "  - Valores nulos: 0\n",
      "  - Valores negativos: 0\n",
      "Atenção: A coluna 'VAL_UTI' não foi encontrada no DataFrame.\n"
     ]
    }
   ],
   "source": [
    "import polars as pl\n",
    "\n",
    "# O caminho para o arquivo parquet\n",
    "arquivo_parquet = \"internacoes.parquet\"\n",
    "\n",
    "# Colunas de valor que podem ter problemas\n",
    "colunas_valores = ['VAL_SH', 'VAL_SP', 'VAL_TOT', 'VAL_UTI']\n",
    "\n",
    "# Carrega o arquivo Parquet\n",
    "df = pl.read_parquet(arquivo_parquet)\n",
    "\n",
    "print(f\"Total de registros: {len(df):,}\")\n",
    "print(\"=\"*40)\n",
    "print(\"Verificando valores negativos e nulos...\")\n",
    "print(\"=\"*40)\n",
    "\n",
    "for coluna in colunas_valores:\n",
    "    if coluna in df.columns:\n",
    "        # Conta valores nulos\n",
    "        contagem_nulos = df.select(pl.col(coluna).is_null().sum()).item()\n",
    "        \n",
    "        # Conta valores negativos\n",
    "        contagem_negativos = df.select((pl.col(coluna) < 0).sum()).item()\n",
    "        \n",
    "        print(f\"Coluna: {coluna}\")\n",
    "        print(f\"  - Valores nulos: {contagem_nulos:,}\")\n",
    "        print(f\"  - Valores negativos: {contagem_negativos:,}\")\n",
    "    else:\n",
    "        print(f\"Atenção: A coluna '{coluna}' não foi encontrada no DataFrame.\")\n"
   ]
  },
  {
   "cell_type": "code",
   "execution_count": 2,
   "id": "991d2223",
   "metadata": {},
   "outputs": [
    {
     "data": {
      "text/plain": [
       "0    0.0\n",
       "1    0.0\n",
       "2    0.0\n",
       "3    0.0\n",
       "4    0.0\n",
       "Name: VAL_TOT, dtype: float64"
      ]
     },
     "execution_count": 2,
     "metadata": {},
     "output_type": "execute_result"
    }
   ],
   "source": [
    "df['VAL_TOT'].head()"
   ]
  },
  {
   "cell_type": "code",
   "execution_count": 4,
   "id": "13c9d3c5",
   "metadata": {},
   "outputs": [
    {
     "name": "stdout",
     "output_type": "stream",
     "text": [
      "Nenhum registro duplicado encontrado na coluna 'N_AIH'.\n"
     ]
    }
   ],
   "source": [
    "import pandas as pd\n",
    "\n",
    "# Suponha que seu DataFrame carregado se chame 'df_etnia'\n",
    "df_etnia = pd.read_parquet(\"etnia.parquet\")\n",
    "\n",
    "# Encontra registros duplicados com base na coluna 'N_AIH'\n",
    "duplicados = df_etnia[df_etnia.duplicated(subset=\"N_AIH\", keep=False)].sort_values(by=\"N_AIH\")\n",
    "\n",
    "if not duplicados.empty:\n",
    "    print(\"Registros duplicados encontrados para a coluna 'N_AIH':\")\n",
    "    print(duplicados)\n",
    "    print(f\"\\nTotal de registros duplicados: {len(duplicados)}\")\n",
    "else:\n",
    "    print(\"Nenhum registro duplicado encontrado na coluna 'N_AIH'.\")"
   ]
  }
 ],
 "metadata": {
  "kernelspec": {
   "display_name": "venv",
   "language": "python",
   "name": "python3"
  },
  "language_info": {
   "codemirror_mode": {
    "name": "ipython",
    "version": 3
   },
   "file_extension": ".py",
   "mimetype": "text/x-python",
   "name": "python",
   "nbconvert_exporter": "python",
   "pygments_lexer": "ipython3",
   "version": "3.12.3"
  }
 },
 "nbformat": 4,
 "nbformat_minor": 5
}
