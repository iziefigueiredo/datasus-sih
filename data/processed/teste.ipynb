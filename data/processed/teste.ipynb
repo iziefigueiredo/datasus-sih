{
 "cells": [
  {
   "cell_type": "code",
   "execution_count": 6,
   "id": "ed83582f",
   "metadata": {},
   "outputs": [],
   "source": [
    "import pandas as pd\n",
    "\n",
    "df = pd.read_parquet(\"contraceptivos.parquet\")"
   ]
  },
  {
   "cell_type": "code",
   "execution_count": 8,
   "id": "b2d0a613",
   "metadata": {},
   "outputs": [
    {
     "data": {
      "text/plain": [
       "N_AIH                 object\n",
       "tipo_contraceptivo    object\n",
       "codigo_metodo         object\n",
       "dtype: object"
      ]
     },
     "execution_count": 8,
     "metadata": {},
     "output_type": "execute_result"
    }
   ],
   "source": [
    "df.dtypes"
   ]
  },
  {
   "cell_type": "code",
   "execution_count": 1,
   "id": "bf97e827",
   "metadata": {},
   "outputs": [],
   "source": [
    "import pandas as pd\n",
    "\n",
    "df= pd.read_parquet(\"etnia.parquet\")"
   ]
  },
  {
   "cell_type": "code",
   "execution_count": 4,
   "id": "13c9d3c5",
   "metadata": {},
   "outputs": [
    {
     "name": "stdout",
     "output_type": "stream",
     "text": [
      "Nenhum registro duplicado encontrado na coluna 'N_AIH'.\n"
     ]
    }
   ],
   "source": [
    "import pandas as pd\n",
    "\n",
    "# Suponha que seu DataFrame carregado se chame 'df_etnia'\n",
    "df_etnia = pd.read_parquet(\"etnia.parquet\")\n",
    "\n",
    "# Encontra registros duplicados com base na coluna 'N_AIH'\n",
    "duplicados = df_etnia[df_etnia.duplicated(subset=\"N_AIH\", keep=False)].sort_values(by=\"N_AIH\")\n",
    "\n",
    "if not duplicados.empty:\n",
    "    print(\"Registros duplicados encontrados para a coluna 'N_AIH':\")\n",
    "    print(duplicados)\n",
    "    print(f\"\\nTotal de registros duplicados: {len(duplicados)}\")\n",
    "else:\n",
    "    print(\"Nenhum registro duplicado encontrado na coluna 'N_AIH'.\")"
   ]
  }
 ],
 "metadata": {
  "kernelspec": {
   "display_name": "venv",
   "language": "python",
   "name": "python3"
  },
  "language_info": {
   "codemirror_mode": {
    "name": "ipython",
    "version": 3
   },
   "file_extension": ".py",
   "mimetype": "text/x-python",
   "name": "python",
   "nbconvert_exporter": "python",
   "pygments_lexer": "ipython3",
   "version": "3.12.3"
  }
 },
 "nbformat": 4,
 "nbformat_minor": 5
}
