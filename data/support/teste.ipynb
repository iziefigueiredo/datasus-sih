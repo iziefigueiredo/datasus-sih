{
 "cells": [
  {
   "cell_type": "code",
   "execution_count": 3,
   "id": "ed83582f",
   "metadata": {},
   "outputs": [
    {
     "name": "stdout",
     "output_type": "stream",
     "text": [
      "Conversão concluída! O arquivo TCHRS.csv foi criado na mesma pasta.\n"
     ]
    }
   ],
   "source": [
    "from dbfread import DBF\n",
    "import pandas as pd\n",
    "\n",
    "try:\n",
    "    # Lê o arquivo .dbf. \"TCHRS\" é o nome do arquivo sem a extensão.\n",
    "    table = DBF('TCHRS.dbf')\n",
    "    \n",
    "    # Converte os registros da tabela .dbf para um DataFrame do pandas\n",
    "    df = pd.DataFrame(iter(table))\n",
    "    \n",
    "    # Salva o DataFrame como um arquivo .csv\n",
    "    df.to_csv('TCHRS.csv', index=False)\n",
    "    \n",
    "    print(\"Conversão concluída! O arquivo TCHRS.csv foi criado na mesma pasta.\")\n",
    "\n",
    "except Exception as e:\n",
    "    print(f\"Ocorreu um erro: {e}\")\n",
    "    print(\"Verifique se o arquivo TCHRS.dbf está na mesma pasta e se a biblioteca 'dbfread' está instalada.\")  "
   ]
  },
  {
   "cell_type": "code",
   "execution_count": null,
   "id": "6f68942d",
   "metadata": {},
   "outputs": [
    {
     "name": "stdout",
     "output_type": "stream",
     "text": [
      "PyTables is not installed. No support for HDF output.\n"
     ]
    }
   ],
   "source": [
    "import csv\n",
    "from dbfread import DBF\n",
    "\n",
    "table = DBF(\"TCHRS.dbf\", load=True, encoding=\"latin1\")\n",
    "\n",
    "with open(\"meuarquivo.csv\", \"w\", newline=\"\", encoding=\"utf-8\") as f:\n",
    "    writer = csv.writer(f)\n",
    "    writer.writerow(table.field_names)\n",
    "    for record in table:\n",
    "        writer.writerow([record[field] for field in table.field_names])\n"
   ]
  },
  {
   "cell_type": "code",
   "execution_count": 4,
   "id": "4eb88fa3",
   "metadata": {},
   "outputs": [
    {
     "name": "stdout",
     "output_type": "stream",
     "text": [
      "Collecting simpledbf\n",
      "  Downloading simpledbf-0.2.6.tar.gz (17 kB)\n",
      "  Installing build dependencies ... \u001b[?25ldone\n",
      "\u001b[?25h  Getting requirements to build wheel ... \u001b[?25ldone\n",
      "\u001b[?25h  Preparing metadata (pyproject.toml) ... \u001b[?25ldone\n",
      "\u001b[?25hBuilding wheels for collected packages: simpledbf\n",
      "  Building wheel for simpledbf (pyproject.toml) ... \u001b[?25ldone\n",
      "\u001b[?25h  Created wheel for simpledbf: filename=simpledbf-0.2.6-py3-none-any.whl size=13825 sha256=92bd68a38ad7a509963d82b07967a39090c71d42d4ad088c1174d490b3bb9e5a\n",
      "  Stored in directory: /home/isadora/.cache/pip/wheels/7d/53/e7/7002aa67a7d1ff157663e0009d2ff1735020a669a5034c7ba4\n",
      "Successfully built simpledbf\n",
      "Installing collected packages: simpledbf\n",
      "Successfully installed simpledbf-0.2.6\n",
      "Note: you may need to restart the kernel to use updated packages.\n"
     ]
    }
   ],
   "source": [
    "pip install simpledbf\n"
   ]
  }
 ],
 "metadata": {
  "kernelspec": {
   "display_name": "venv",
   "language": "python",
   "name": "python3"
  },
  "language_info": {
   "codemirror_mode": {
    "name": "ipython",
    "version": 3
   },
   "file_extension": ".py",
   "mimetype": "text/x-python",
   "name": "python",
   "nbconvert_exporter": "python",
   "pygments_lexer": "ipython3",
   "version": "3.12.3"
  }
 },
 "nbformat": 4,
 "nbformat_minor": 5
}
